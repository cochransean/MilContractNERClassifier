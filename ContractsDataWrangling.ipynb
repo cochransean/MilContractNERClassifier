{
 "cells": [
  {
   "cell_type": "code",
   "execution_count": 62,
   "metadata": {
    "collapsed": false
   },
   "outputs": [],
   "source": [
    "%matplotlib inline\n",
    "import pandas as pd\n",
    "import numpy as np\n",
    "import matplotlib.pyplot as plt\n",
    "import re"
   ]
  },
  {
   "cell_type": "code",
   "execution_count": 63,
   "metadata": {
    "collapsed": false
   },
   "outputs": [],
   "source": [
    "df = pd.read_csv('consolidated_contracts.csv')"
   ]
  },
  {
   "cell_type": "code",
   "execution_count": 64,
   "metadata": {
    "collapsed": false
   },
   "outputs": [],
   "source": [
    "contract_lengths = df['announcement'].str.len()"
   ]
  },
  {
   "cell_type": "code",
   "execution_count": 65,
   "metadata": {
    "collapsed": false
   },
   "outputs": [
    {
     "data": {
      "text/plain": [
       "<matplotlib.axes._subplots.AxesSubplot at 0x115e6e198>"
      ]
     },
     "execution_count": 65,
     "metadata": {},
     "output_type": "execute_result"
    },
    {
     "data": {
      "image/png": "[encoded data removed]",
      "text/plain": [
       "<matplotlib.figure.Figure at 0x115abfb38>"
      ]
     },
     "metadata": {},
     "output_type": "display_data"
    }
   ],
   "source": [
    "# Setting a range here because there is one extremely high value (40000+) that throws the graph off\n",
    "contract_lengths.hist(range=[0, 3000], bins=10)"
   ]
  },
  {
   "cell_type": "code",
   "execution_count": 66,
   "metadata": {
    "collapsed": false
   },
   "outputs": [],
   "source": [
    "# Find the overly length announcements\n",
    "# Find announcements that mention \"contracting activity\" multiple times (indicates multiple entires usually)\n",
    "suspect_announcements = df[(df['announcement'].str.len() > 2500) & \n",
    "                          (df['announcement'].str.count('contracting activity', flags=re.IGNORECASE) > 1)]"
   ]
  },
  {
   "cell_type": "code",
   "execution_count": 67,
   "metadata": {
    "collapsed": false
   },
   "outputs": [
    {
     "name": "stdout",
     "output_type": "stream",
     "text": [
      "                     date                                       announcement\n",
      "27848     August 09, 2006  CONTRACTS NAVY Harris Corp., RF Communications...\n",
      "27865     August 11, 2006  CONTRACTS AIR FORCE Rockwell Collins Inc., Ced...\n",
      "27866     August 14, 2006  CONTRACTS AIR FORCE Aerospace Testing Alliance...\n",
      "27867     August 15, 2006  CONTRACTS ARMY General Dynamics, St. Petersbur...\n",
      "27868     August 16, 2006  CONTRACTS MISSILE DEFENSE AGENCY Raytheon Miss...\n",
      "27869     August 18, 2006  CONTRACTS DEFENSE LOGISTICS AGENCY Science App...\n",
      "27870     August 21, 2006  CONTRACTS DEFENSE INFORMATION SYSTEMS AGENCY (...\n",
      "27871  September 06, 2006  CONTRACTS ARMY GM GDLS Defense Group L.L.C. (J...\n",
      "27872  September 06, 2006  Spindler Construction Corp.*, Logan, Utah, was...\n",
      "27873  September 07, 2006  CONTRACTS DEFENSE LOGISTICS AGENCY Valero Mark...\n",
      "27874  September 08, 2006  Lear Siegler Logistics International Inc., Gai...\n",
      "27880  September 11, 2006  GM GDLS Defense Group L.L.C. (Joint Venture), ...\n",
      "27881  September 13, 2006  CONTRACTS NAVY Raytheon Co., Tucson, Ariz. is ...\n",
      "27882  September 14, 2006  CONTRACTS ARMY Raytheon Co., McKinney, Texas, ...\n",
      "27883  September 14, 2006  AIR FORCE Computer Sciences Corp., Applied Tec...\n",
      "27885  September 25, 2006  Sikorsky Support Services, Inc., Pensacola, Fl...\n",
      "27886  September 25, 2006  Northrop Grumman Systems Corp., San Diego, Cal...\n",
      "27887  September 29, 2006  The Aerospace Corp., El Segundo, Calif., is be...\n",
      "27888  September 29, 2006  Raytheon Co., West Andover, Mass., was awarded...\n",
      "27889  September 29, 2006  Sodexho Management, Inc., Gaithersburg, Md., i...\n",
      "27890  September 29, 2006  COHR, Inc., dba Masterplan, Chatsworth, Calif....\n",
      "27891    October 04, 2006  CONTRACTS ARMY AM General L.L.C., South Bend, ...\n",
      "27893    October 20, 2006  Amerada Hess Corp., Woodbridge, N.J., is being...\n",
      "27894    October 23, 2006  CONTRACTS ARMY Tompkins Builders Inc., Washing...\n",
      "27895    October 25, 2006  CONTRACTS DEFENSE ADVANCED RESEARCH PROJECTS A...\n",
      "27899    October 30, 2006  CONTRACTS UNITED STATES SPECIAL OPERATIONS COM...\n",
      "27901   November 08, 2006  ARMY Textron Marine & Land Systems, New Orlean...\n",
      "27903   November 09, 2006  NAVY Force Protection Industries, Inc., Ladson...\n",
      "27904   November 14, 2006  CONTRACTS AIR FORCE McDonnell Douglas Corp., S...\n",
      "27905   November 15, 2006  CONTRACTS AIR FORCE Northrop Grumman Electroni...\n",
      "...                   ...                                                ...\n",
      "29168       July 08, 2009  CONTRACTS AIR FORCE Northrop Grumman Space and...\n",
      "29183       July 09, 2009  NAVY Superior Electric Company, Farmington, Co...\n",
      "29889  September 22, 2009  NAVY Harper Construction Co., San Diego, Calif...\n",
      "30268    October 02, 2009  CONTRACTS AIR FORCE United Launch Services of ...\n",
      "30421    October 29, 2009  CONTRACTS AIR FORCE MWH Americas, Inc. of Broo...\n",
      "30791   February 18, 2010  CONTRACTS NAVY CACI, Inc., Federal, Chantilly,...\n",
      "43344  September 12, 2013  Bristol General Contractors LLC*, Anchorage, A...\n",
      "45686     August 06, 2014  Geomorph Information Systems, LLC,* San Diego,...\n",
      "45795     August 18, 2014  Whiting-Turner Contracting Co., Baltimore, Mar...\n",
      "45796     August 18, 2014  The Boeing Co., Seattle, Washington, is being ...\n",
      "45809     August 20, 2014  BAE Systems Technology Solutions & Services, I...\n",
      "45810     August 20, 2014  BAE Systems Information and Electronic Systems...\n",
      "45832     August 22, 2014  Anchor Industries,* Evansville, Indiana, has b...\n",
      "45833     August 22, 2014  L-3 Communications Corp., Integrated Systems G...\n",
      "45835     August 22, 2014  Franklin Government Services, LLC,* Austin, Te...\n",
      "47022   December 01, 2014  Lockheed Martin, Mission Systems and Training,...\n",
      "47304   December 30, 2014  The Haskell Co., Jacksonville, Florida, is bei...\n",
      "47506   February 02, 2015  Bruce S. Rosenblatt & Associates LLC,* Oakland...\n",
      "47533   February 05, 2015  Raytheon Missile Systems, Tucson, Arizona, is ...\n",
      "47574   February 12, 2015  Science Applications International Corp. Inc.,...\n",
      "47641   February 24, 2015  Leidos Inc., Reston, Virginia, is being awarde...\n",
      "47673   February 27, 2015  Northrop Grumman Systems Corp., Aerospace Syst...\n",
      "48652       June 15, 2015  The Columbia Group Inc., Panama City, Florida ...\n",
      "48667       June 15, 2015  The Columbia Group Inc., Panama City, Florida ...\n",
      "48720       June 18, 2015  Lockheed Martin, Mission Systems and Training,...\n",
      "48736       June 18, 2015  Lockheed Martin, Mission Systems and Training,...\n",
      "49291       July 17, 2015  American Systems, Chantilly, Virginia (HHM402-...\n",
      "49298       July 17, 2015  Huntington Ingalls Inc., Pascagoula, Mississip...\n",
      "49303       July 17, 2015  American Systems, Chantilly, Virginia (HHM402-...\n",
      "49310       July 17, 2015  Huntington Ingalls Inc., Pascagoula, Mississip...\n",
      "\n",
      "[82 rows x 2 columns]\n"
     ]
    }
   ],
   "source": [
    "print(suspect_announcements)"
   ]
  },
  {
   "cell_type": "code",
   "execution_count": 68,
   "metadata": {
    "collapsed": false
   },
   "outputs": [],
   "source": [
    "# Export to CSV for manual editing and splitting of long announcements that are probably repeated\n",
    "suspect_announcements.to_csv('suspect_announcements.csv')"
   ]
  },
  {
   "cell_type": "code",
   "execution_count": 69,
   "metadata": {
    "collapsed": false
   },
   "outputs": [],
   "source": [
    "# Re-import CSV with \"BREAK\" inserted between announcements that are on the same line\n",
    "updated_entries = pd.read_csv('suspect_announcements_broken_up.csv', index_col='index')"
   ]
  },
  {
   "cell_type": "code",
   "execution_count": 70,
   "metadata": {
    "collapsed": true
   },
   "outputs": [],
   "source": [
    "# Update the original data frame with the new, manually edited entries\n",
    "df.update(updated_entries)"
   ]
  },
  {
   "cell_type": "code",
   "execution_count": 71,
   "metadata": {
    "collapsed": false
   },
   "outputs": [
    {
     "data": {
      "text/plain": [
       "544"
      ]
     },
     "execution_count": 71,
     "metadata": {},
     "output_type": "execute_result"
    }
   ],
   "source": [
    "# Make sure the update worked\n",
    "df['announcement'].str.count('BREAK').sum()"
   ]
  },
  {
   "cell_type": "code",
   "execution_count": 72,
   "metadata": {
    "collapsed": false
   },
   "outputs": [],
   "source": [
    "# Split upon the occurences of 'BREAK' (this will expand each row into multiple columns that need to be flattened)\n",
    "df['announcement'] = df['announcement'].str.split('BREAK', expand=False)"
   ]
  },
  {
   "cell_type": "code",
   "execution_count": 73,
   "metadata": {
    "collapsed": false
   },
   "outputs": [],
   "source": [
    "grouped = df.groupby(df['date'])"
   ]
  },
  {
   "cell_type": "code",
   "execution_count": 78,
   "metadata": {
    "collapsed": false
   },
   "outputs": [],
   "source": [
    "aggregated = grouped.aggregate(lambda x: list(x))"
   ]
  },
  {
   "cell_type": "code",
   "execution_count": 81,
   "metadata": {
    "collapsed": false
   },
   "outputs": [],
   "source": [
    "# Concat the lists since some have multiple values while others are empty\n",
    "aggregated['announcement'] = aggregated['announcement'].apply(\n",
    "    lambda lists: [item for sublist in lists for item in sublist])"
   ]
  },
  {
   "cell_type": "code",
   "execution_count": 82,
   "metadata": {
    "collapsed": false
   },
   "outputs": [
    {
     "name": "stdout",
     "output_type": "stream",
     "text": [
      "['GTE Government Systems Division, Taunton, Massachusetts, was awarded on March19, 1996, a $7,433,603 increment as part of a not-to-exceed $14,867,206modification to a firm fixed price with economic price adjustments contract toprovide Soldier Machine Interface, network planning and engineering,battlefield spectrum management, system administration, data distribution andplanning and map management to the Network Management Tool of the MobileSubscriber Equipment System. Work will be performed in Taunton, Massachusetts,and is expected to be completed by March 31, 2008. Contract funds will notexpire at the end of the current fiscal year. There were 143 bids solicited onFebruary 7, 1984, and two bids received. The contracting activity is the U.S.Army Communications and Electronics Command, Fort Monmouth, New Jersey(DAAB07-86-C-K022).', 'R. P. Richards, Incorporated. Goleta, California, was awarded on March 29,1996, a $6,775,000 fixed price contract for a hospital addition and life safetyupgrade. The project is for construction of an approximately 18,000 squarefoot addition and 8,900 square foot renovation to the emergency, radiology, andlaboratory departments; and alteration of the Composite Medical TreatmentFacility to comply with the Life Safety Code. Work includes asbestos removal.The Life Safety Code improvements include fire protection and electricalsystem. Work will be performed at Luke Air Force Base**, Arizona, and isexpected to be completed by October 31, 1997. Contract funds will not expireat the end of the current fiscal year. There were 50 bids solicited onFebruary 22, 1996, and six bids received. The contracting activity is the U.S.Army Corps of Engineers, Los Angeles, California (DACA09-96-C-0017).', 'Hughes Missile Systems, Tucson, Arizona, was awarded on March 29, 1996, a$14,847,048 modification to a firm fixed price contract for 2,000 STINGER Block1 Retrofits. The STINGER is a short-range air defense missile. Work will beperformed in Tucson, Arizona, and is expected to be completed by June 30, 1998.Of the total contract funds, $1,670,625 will expire at the end of the currentfiscal year. This is a sole source contract initiated on November 7, 1994.The contracting activity is the U.S. Army Missile Command, Redstone Arsenal,Alabama (DAAH01-95-C-0071).', 'General Electric Company, Lynn, Massachusetts, was awarded on March 29, 1996,a $22,163,740 modification to a firm fixed price contract for 66 T700-GE-701Cengines for the Apache helicopter, and other support such as field servicerepresentatives, manuals, and containers for the Netherlands. Work will beperformed in Lynn, Massachusetts, and is expected to be completed by November30, 2001. Contract funds will not expire at the end of the current fiscalyear. This is a sole source contract initiated on February 10, 1994. Thecontracting activity is the U.S. Army Aviation and Troop Command, St. Louis,Missouri (DAAJ09-94-C-0456).', 'Beys Contracting, Incorporated, Brooklyn, New York, is being awarded a$6,580,000 firm fixed price contract for construction of a new 25,000 squarefoot Child Development Center, with supporting utilities and site improvements.The contractor shall install a closed-circuit TV system including all cablingoutlets, cameras, monitors, equipment console, etc. Contractor shall alsoinstall a radiant floor heating system. The contractor shall perform all sitelandscaping and construction of a playground including all playgroundequipment. The project will include extensive earth work and rock blasting.Work will be performed at the U.S. Military Academy, West Point, New York, andis expected to be completed by November 30, 1997. Contract funds will notexpire at the end of the current fiscal year. There were 32 bids solicited onFebruary 27, 1996, and ten bids were received. The contracting activity is theU.S. Army Corps of Engineers, New York, New York (DACA51-96-C-0034).', 'Rockwell International Corporation, Anaheim, California, was awarded on March29, a $5,038,317 face value increase to a cost plus fixed fee contract toprovide for additional interim contractor support activities for the AC-130Uaircraft. The work will be performed at Rockwell International corporation,Fort Walton Beach, Florida. Contract is expected to be completed March 1997.Contract funds will not expire at the end of the current fiscal year.Aeronautical Systems Center, Wright-Patterson Air Force Base, Ohio, is thecontracting activity (F33657-94/C-0047, P00009).', 'McDonnell Douglas Corporation, Long Beach, California, was awarded on March29, a $5,217,502 face value increase to a cost plus fixed fee contract toprovide for upgrade of the nacelle thrust reverser door hinge assembly on theC-17 aircraft. The work will be performed at McDonnell Douglas, Long BeachCalifornia (48%), and at their Tulsa Modification Center, Tulsa, Oklahoma (48%)and at Edwards Air Force Base, California (4%). Contract is expected to becompleted May 1997. Contract funds will not expire at the end of the currentfiscal year. Aeronautical Systems Center, Wright-Patterson Air Force Base,Ohio, is the contracting activity (F33657-95/C-2027, P00003).', 'Honeywell, Incorporated, Clearwater, Florida, was awarded on March 29, a$5,602,500 face value increase to a firm fixed price contract to provide for 83Embedded Global Positioning System/Inertial Navigation System units applicableto the Army AH-64A helicopter. Contract is', 'expected to be completed March 1998. Contract funds will not expire at the endof the current fiscal year. Aeronautical Systems Center, Wright-Patterson AirForce Base, Ohio, is the contracting activity (F33657-93/C-0002, P00045).', 'International Technology Corporation, Cincinnati, Ohio, was awarded on March29, a $49,200,000 firm fixed price contract to provide for environmentalengineering services in support of the 88th Air Base Wing and the AeronauticalSystems Center office of Environmental Management, both at Wright-Patterson AirForce Base, Ohio. Contract is expected to be completed September 2000.Contract funds will not expire at the end of the current fiscal year.Forty-six proposals were received. Solicitation began August 1995 andnegotiations were complete March 1996. Aeronautical Systems Center,Wright-Patterson Air Force Base, Ohio, is the contracting activity(F33601-96/D-W006).', 'Northrop Grumman Corporation, Pico Rivera, California, was awarded on March29, a $6,891,537 face value increase to a fixed price incentive fee contract toprovide for data, equipment, and tooling consolidation and storage in supportof the curtailment program for the B-2 aircraft. Contract is expected to becompleted December 1996. Contract funds will not expire at the end of thecurrent fiscal year. Aeronautical Systems Center, Wright-Patterson Air ForceBase, Ohio, is the contracting activity (F33657-87/C-2000, P00667).', 'APF Travel, Incorporated, Alhambra, California, was awarded on March 29, a$10,000,000 firm fixed price contract to provide for Commercial Travel Officeservices at McClellan Air Force Base, California from March 1996 throughSeptember 1997. The work will be performed at McClellan Air Force Base,California. Contract is expected to be completed September 1997. Contractfunds will not expire at the end of the current fiscal year. There were 8firms solicited and 8 proposals received. Solicitation began September 1995and negotiations were complete October 1995. Sacramento Air Logistics Center,McClellan Air Force Base, California, is the contracting activity(F04699-96/C-0004).', 'BDM Federal, Incorporated, McLean, Virginia, was awarded on March 29, a$44,397,800 firm fixed price contract to provide for construction of 110housing units at the MK-1 Compound, Khamis Mushayt, Saudi Arabia, for TechnicalSupport Program personnel assisting the Royal Saudi Air Force. The work willbe performed at Khamis Mushayt, Saudi Arabia Contract is expected to becompleted January 2002. Contract funds will not expire at the end of thecurrent fiscal year. There was one firm solicited and one proposal received.Solicitation began March 1996; negotiations were completed March 1996. Thiseffort supports foreign military sales to Saudi Arabia. Warner Robins AirLogistics Center, Robins Air Force Base, Georgia, is the contracting activity(F09603-96/C-0271).', 'Boeing Aerospace and Electronics, Seattle, Washington, was awarded on March29, a $9,000,000 indefinite delivery contract to provide for engineering andtechnical services in support of the Peacekeeper and Minuteman IntercontinentalBallistic Missile Systems. Contract', 'is expected to be completed December 1998. Contract funds will not expire atthe end of the current fiscal year. There was one firm solicited and oneproposal received. Solicitation began August 1995; negotiations were completedJanuary 1996. Ogden Air Logistics Center, Hill Air Force Base, Utah, is thecontracting activity (F42610-96/D-0021).', \"Computer Sciences Corporation, Moorestown, New Jersey, was awarded on March29, a $35,300,162 face value increase to a fixed price labor hour contract toprovide for System Managers in support of Air Mobility Command's Command andControl Information Processing System fixed and deployable nodes. Contract isexpected to be completed December 1998. Contract funds will not expire at theend of the current fiscal year. Electronic Systems Center, Hanscom Air ForceBase, Massachusetts, is the contracting activity (F19628-92/D-0001, P00012).\", 'Rockwell International Corporation, Cedar Rapids, Iowa, was awarded on March29, a $9,566,293 face value increase to a fixed price incentive fee contract toprovide for 420 Miniaturized Airborne Global Positioning System Receivers and228 Aircraft Mounts applicable to various aircraft. The work will be performedat Rockwell International Corporation, Coralville, Iowa. Contract is expectedto be completed June 1998. Contract funds will not expire at the end of thecurrent fiscal year. Approximately 4% of this effort supports foreign militarysales to The Netherlands. Space and Missile Systems Center, Los Angeles,California, is the contracting activity (F04701-91/C-0003, P00051).', 'Loral Aerospace Corporation, Sunnyvale, California, was awarded on March 29, a$7,192,185 face value increase to a cost reimbursement incentive fee contractto definitize FY 1996 operation, maintenance, and support of the Air ForceSatellite Control Network Indian Ocean Station, Republic of the Seychelles.Contract is expected to be completed September 1996. Contract funds will notexpire at the end of the current fiscal year. The 50th Space Wing ContractingSquadron, Falcon Air Force Base, Colorado, is the contracting activity(F05603-90/C-0011, P00237).', 'Lear Astronics, Santa Monica, California, was awarded on March 29, a$23,116,466 face value increase to a firm fixed price contract to provide for329 Fuel Savings Advisory Systems applicable to the KC-135 aircraft. Contractis expected to be completed July 1998. Contract funds will not expire at theend of the current fiscal year. Oklahoma City Air Logistics Center, Tinker AirForce Base, Oklahoma, is the contracting activity (F34601-92/C-0918, P00016).']\n"
     ]
    }
   ],
   "source": [
    "# Each date should not have only one row, while the next column is a list for all releases from that date\n",
    "print(aggregated['announcement'][0])"
   ]
  },
  {
   "cell_type": "code",
   "execution_count": null,
   "metadata": {
    "collapsed": true
   },
   "outputs": [],
   "source": []
  }
 ],
 "metadata": {
  "kernelspec": {
   "display_name": "Python 3",
   "language": "python",
   "name": "python3"
  },
  "language_info": {
   "codemirror_mode": {
    "name": "ipython",
    "version": 3
   },
   "file_extension": ".py",
   "mimetype": "text/x-python",
   "name": "python",
   "nbconvert_exporter": "python",
   "pygments_lexer": "ipython3",
   "version": "3.5.1"
  }
 },
 "nbformat": 4,
 "nbformat_minor": 0
}
