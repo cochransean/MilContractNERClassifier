{
 "cells": [
  {
   "cell_type": "code",
   "execution_count": 50,
   "metadata": {
    "collapsed": false
   },
   "outputs": [],
   "source": [
    "%matplotlib inline\n",
    "import pandas as pd\n",
    "import numpy as np\n",
    "import matplotlib.pyplot as plt\n",
    "import re"
   ]
  },
  {
   "cell_type": "code",
   "execution_count": 3,
   "metadata": {
    "collapsed": false
   },
   "outputs": [],
   "source": [
    "df = pd.read_csv('consolidated_contracts.csv')"
   ]
  },
  {
   "cell_type": "code",
   "execution_count": 4,
   "metadata": {
    "collapsed": false
   },
   "outputs": [],
   "source": [
    "contract_lengths = df['announcement'].str.len()"
   ]
  },
  {
   "cell_type": "code",
   "execution_count": 5,
   "metadata": {
    "collapsed": false
   },
   "outputs": [
    {
     "data": {
      "text/plain": [
       "<matplotlib.axes._subplots.AxesSubplot at 0x118b3c5c0>"
      ]
     },
     "execution_count": 5,
     "metadata": {},
     "output_type": "execute_result"
    },
    {
     "data": {
      "image/png": "[encoded data removed]",
      "text/plain": [
       "<matplotlib.figure.Figure at 0x109fa5e80>"
      ]
     },
     "metadata": {},
     "output_type": "display_data"
    }
   ],
   "source": [
    "# Setting a range here because there is one extremely high value (40000+) that throws the graph off\n",
    "contract_lengths.hist(range=[0, 3000], bins=10)"
   ]
  },
  {
   "cell_type": "code",
   "execution_count": 109,
   "metadata": {
    "collapsed": false
   },
   "outputs": [],
   "source": [
    "# Find the overly length announcements\n",
    "# Find announcements that mention \"contracting activity\" multiple times (indicates multiple entires usually)\n",
    "suspect_announcements = df[(df['announcement'].str.len() > 2500) & \n",
    "                          (df['announcement'].str.count('contracting activity', flags=re.IGNORECASE) > 1)]"
   ]
  },
  {
   "cell_type": "code",
   "execution_count": 110,
   "metadata": {
    "collapsed": false
   },
   "outputs": [
    {
     "name": "stdout",
     "output_type": "stream",
     "text": [
      "                     date                                       announcement\n",
      "27848     August 09, 2006  CONTRACTS NAVY Harris Corp., RF Communications...\n",
      "27865     August 11, 2006  CONTRACTS AIR FORCE Rockwell Collins Inc., Ced...\n",
      "27866     August 14, 2006  CONTRACTS AIR FORCE Aerospace Testing Alliance...\n",
      "27867     August 15, 2006  CONTRACTS ARMY General Dynamics, St. Petersbur...\n",
      "27868     August 16, 2006  CONTRACTS MISSILE DEFENSE AGENCY Raytheon Miss...\n",
      "27869     August 18, 2006  CONTRACTS DEFENSE LOGISTICS AGENCY Science App...\n",
      "27870     August 21, 2006  CONTRACTS DEFENSE INFORMATION SYSTEMS AGENCY (...\n",
      "27871  September 06, 2006  CONTRACTS ARMY GM GDLS Defense Group L.L.C. (J...\n",
      "27872  September 06, 2006  Spindler Construction Corp.*, Logan, Utah, was...\n",
      "27873  September 07, 2006  CONTRACTS DEFENSE LOGISTICS AGENCY Valero Mark...\n",
      "27874  September 08, 2006  Lear Siegler Logistics International Inc., Gai...\n",
      "27880  September 11, 2006  GM GDLS Defense Group L.L.C. (Joint Venture), ...\n",
      "27881  September 13, 2006  CONTRACTS NAVY Raytheon Co., Tucson, Ariz. is ...\n",
      "27882  September 14, 2006  CONTRACTS ARMY Raytheon Co., McKinney, Texas, ...\n",
      "27883  September 14, 2006  AIR FORCE Computer Sciences Corp., Applied Tec...\n",
      "27885  September 25, 2006  Sikorsky Support Services, Inc., Pensacola, Fl...\n",
      "27886  September 25, 2006  Northrop Grumman Systems Corp., San Diego, Cal...\n",
      "27887  September 29, 2006  The Aerospace Corp., El Segundo, Calif., is be...\n",
      "27888  September 29, 2006  Raytheon Co., West Andover, Mass., was awarded...\n",
      "27889  September 29, 2006  Sodexho Management, Inc., Gaithersburg, Md., i...\n",
      "27890  September 29, 2006  COHR, Inc., dba Masterplan, Chatsworth, Calif....\n",
      "27891    October 04, 2006  CONTRACTS ARMY AM General L.L.C., South Bend, ...\n",
      "27893    October 20, 2006  Amerada Hess Corp., Woodbridge, N.J., is being...\n",
      "27894    October 23, 2006  CONTRACTS ARMY Tompkins Builders Inc., Washing...\n",
      "27895    October 25, 2006  CONTRACTS DEFENSE ADVANCED RESEARCH PROJECTS A...\n",
      "27899    October 30, 2006  CONTRACTS UNITED STATES SPECIAL OPERATIONS COM...\n",
      "27901   November 08, 2006  ARMY Textron Marine & Land Systems, New Orlean...\n",
      "27903   November 09, 2006  NAVY Force Protection Industries, Inc., Ladson...\n",
      "27904   November 14, 2006  CONTRACTS AIR FORCE McDonnell Douglas Corp., S...\n",
      "27905   November 15, 2006  CONTRACTS AIR FORCE Northrop Grumman Electroni...\n",
      "...                   ...                                                ...\n",
      "29168       July 08, 2009  CONTRACTS AIR FORCE Northrop Grumman Space and...\n",
      "29183       July 09, 2009  NAVY Superior Electric Company, Farmington, Co...\n",
      "29889  September 22, 2009  NAVY Harper Construction Co., San Diego, Calif...\n",
      "30268    October 02, 2009  CONTRACTS AIR FORCE United Launch Services of ...\n",
      "30421    October 29, 2009  CONTRACTS AIR FORCE MWH Americas, Inc. of Broo...\n",
      "30791   February 18, 2010  CONTRACTS NAVY CACI, Inc., Federal, Chantilly,...\n",
      "43344  September 12, 2013  Bristol General Contractors LLC*, Anchorage, A...\n",
      "45686     August 06, 2014  Geomorph Information Systems, LLC,* San Diego,...\n",
      "45795     August 18, 2014  Whiting-Turner Contracting Co., Baltimore, Mar...\n",
      "45796     August 18, 2014  The Boeing Co., Seattle, Washington, is being ...\n",
      "45809     August 20, 2014  BAE Systems Technology Solutions & Services, I...\n",
      "45810     August 20, 2014  BAE Systems Information and Electronic Systems...\n",
      "45832     August 22, 2014  Anchor Industries,* Evansville, Indiana, has b...\n",
      "45833     August 22, 2014  L-3 Communications Corp., Integrated Systems G...\n",
      "45835     August 22, 2014  Franklin Government Services, LLC,* Austin, Te...\n",
      "47022   December 01, 2014  Lockheed Martin, Mission Systems and Training,...\n",
      "47304   December 30, 2014  The Haskell Co., Jacksonville, Florida, is bei...\n",
      "47506   February 02, 2015  Bruce S. Rosenblatt & Associates LLC,* Oakland...\n",
      "47533   February 05, 2015  Raytheon Missile Systems, Tucson, Arizona, is ...\n",
      "47574   February 12, 2015  Science Applications International Corp. Inc.,...\n",
      "47641   February 24, 2015  Leidos Inc., Reston, Virginia, is being awarde...\n",
      "47673   February 27, 2015  Northrop Grumman Systems Corp., Aerospace Syst...\n",
      "48652       June 15, 2015  The Columbia Group Inc., Panama City, Florida ...\n",
      "48667       June 15, 2015  The Columbia Group Inc., Panama City, Florida ...\n",
      "48720       June 18, 2015  Lockheed Martin, Mission Systems and Training,...\n",
      "48736       June 18, 2015  Lockheed Martin, Mission Systems and Training,...\n",
      "49291       July 17, 2015  American Systems, Chantilly, Virginia (HHM402-...\n",
      "49298       July 17, 2015  Huntington Ingalls Inc., Pascagoula, Mississip...\n",
      "49303       July 17, 2015  American Systems, Chantilly, Virginia (HHM402-...\n",
      "49310       July 17, 2015  Huntington Ingalls Inc., Pascagoula, Mississip...\n",
      "\n",
      "[82 rows x 2 columns]\n"
     ]
    }
   ],
   "source": [
    "print(suspect_announcements)"
   ]
  },
  {
   "cell_type": "code",
   "execution_count": 111,
   "metadata": {
    "collapsed": false
   },
   "outputs": [],
   "source": [
    "# Export to CSV for manual editing and splitting of long announcements that are probably repeated\n",
    "suspect_announcements.to_csv('suspect_announcements.csv')"
   ]
  },
  {
   "cell_type": "code",
   "execution_count": null,
   "metadata": {
    "collapsed": true
   },
   "outputs": [],
   "source": []
  }
 ],
 "metadata": {
  "kernelspec": {
   "display_name": "Python 3",
   "language": "python",
   "name": "python3"
  },
  "language_info": {
   "codemirror_mode": {
    "name": "ipython",
    "version": 3
   },
   "file_extension": ".py",
   "mimetype": "text/x-python",
   "name": "python",
   "nbconvert_exporter": "python",
   "pygments_lexer": "ipython3",
   "version": "3.5.1"
  }
 },
 "nbformat": 4,
 "nbformat_minor": 0
}
