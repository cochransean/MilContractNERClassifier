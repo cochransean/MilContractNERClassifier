{
 "cells": [
  {
   "cell_type": "code",
   "execution_count": 1,
   "metadata": {
    "collapsed": false
   },
   "outputs": [],
   "source": [
    "%matplotlib inline\n",
    "import pandas as pd\n",
    "import numpy as np\n",
    "import matplotlib.pyplot as plt"
   ]
  },
  {
   "cell_type": "code",
   "execution_count": 2,
   "metadata": {
    "collapsed": true
   },
   "outputs": [],
   "source": [
    "df = pd.read_csv('consolidated_contracts.csv')"
   ]
  },
  {
   "cell_type": "code",
   "execution_count": 15,
   "metadata": {
    "collapsed": false
   },
   "outputs": [
    {
     "name": "stdout",
     "output_type": "stream",
     "text": [
      "                    date                                       announcement\n",
      "0       October 07, 1994  Pioneer Aluminum,* Los Angeles, California, wa...\n",
      "1       October 07, 1994  Saberline Corporation, St. Louis, Missouri, is...\n",
      "2       October 07, 1994  McDonnell Douglas Corporation, McDonnell Dougl...\n",
      "3       October 07, 1994  Northrop Grumman Corporation, B-2 Division, Pi...\n",
      "4       October 11, 1994  Hyster Company, Portland, Oregon, is being awa...\n",
      "5       October 11, 1994  Martin Marietta Defense and Space Communicatio...\n",
      "6       October 11, 1994  Aeromet, Incorporated*, Tulsa, Oklahoma, is be...\n",
      "7       October 11, 1994  Bath Iron Works Corporation, Bath, Maine, is b...\n",
      "8       October 12, 1994  FSEC, Inc., Pasadena, California, is being awa...\n",
      "9       October 12, 1994  ManTech Services Corporation, Fairfax, Virgini...\n",
      "10      October 12, 1994  Boeing Defense and Space Group, Electronic Sys...\n",
      "11      October 14, 1994  The MITRE Corporation, McLean, Virginia, is bi...\n",
      "12      October 14, 1994  Information Spectrum, Inc., Cherry Hill, New J...\n",
      "13      October 14, 1994  United Technologies Corporation, Sikorsky Airc...\n",
      "14      October 14, 1994  Westinghouse Norden Systems, Norwalk, Connecti...\n",
      "15      October 14, 1994  Litton Systems, Incorporated, Data Systems, Ag...\n",
      "16      October 14, 1994  Lockheed Corporation, Lockheed Fort Worth Comp...\n",
      "17      October 14, 1994  PEMCO Aeroplex Incoporated, Birmingham, Alabam...\n",
      "18      October 20, 1994  Lockheed Aeromod Center, Incorporated, Greenvi...\n",
      "19      October 20, 1994  GPS Technologies, Inc., Federal Systems Group,...\n",
      "20      October 20, 1994  Hughes Aircraft Company, Tucson Division, Tucs...\n",
      "21      October 20, 1994  Westinghouse Electric Corporation, Sykesville,...\n",
      "22      October 20, 1994  Hughes Missile Systems Company, Tucson, Arizon...\n",
      "23      October 20, 1994  Defense Research, Incorporated, Naples, Fla., ...\n",
      "24      October 20, 1994  Interstate Electronics Corporation, Anaheim, C...\n",
      "25      October 20, 1994                Page 2--CONTINUE CONTRACTS 10/17/94\n",
      "26      October 20, 1994  Pioneer UAV, Inc., Hunt Valley, Md., is being ...\n",
      "27      October 20, 1994  expected to be completed by August 1996. Contr...\n",
      "28      October 20, 1994  TRW, Inc., Avionics and Surveillance Group, Sa...\n",
      "29      October 20, 1994  Newport News Shipbuilding and Dry Dock Company...\n",
      "...                  ...                                                ...\n",
      "51675  February 29, 2016  G2 Software Systems Inc.,* San Diego, Californ...\n",
      "51676  February 29, 2016  BAE Systems Surface Ships Ltd., United Kingdom...\n",
      "51677  February 29, 2016  Kratos Defense & Rocket Support Services, San ...\n",
      "51678  February 29, 2016  Northrop Grumman Systems Corp., Aerospace Syst...\n",
      "51679  February 29, 2016  Booz Allen Hamilton Engineering Services LLC, ...\n",
      "51680  February 29, 2016  Rockwell Collins-ESA Vision Systems, Fort Wort...\n",
      "51681  February 29, 2016  Vericor Power Systems LLC, Alpharetta, Georgia...\n",
      "51682  February 29, 2016  L-3 Communications, Communication Systems-West...\n",
      "51683  February 29, 2016  Rockwell Collins Inc., Cedar Rapids, Iowa, is ...\n",
      "51684  February 29, 2016  Pacific West Builders,* National City, Califor...\n",
      "51685  February 29, 2016  Ace Electronics Defense Systems LLC,* Aberdeen...\n",
      "51686  February 29, 2016  Sikorsky Support Services Inc., Stratford, Con...\n",
      "51687  February 29, 2016  Lockheed Martin Mission Systems and Training, ...\n",
      "51688  February 29, 2016  Sikorsky Aircraft Corp., Stratford, Connecticu...\n",
      "51689  February 29, 2016  Aerojet Rocketdyne, Canoga Park, California, h...\n",
      "51690  February 29, 2016  United Launch Services LLC, a majority owned s...\n",
      "51691  February 29, 2016  Lockheed Martin Corp., Lockheed Martin Aeronau...\n",
      "51692  February 29, 2016  Engineering and Software System Solutions Inc....\n",
      "51693  February 29, 2016  Lockheed Martin Aeronautics, Marietta, Georgia...\n",
      "51694  February 29, 2016  Goodyear Tire and Rubber Co., Akron, Ohio, was...\n",
      "51695  February 29, 2016  Sentel Corp., Alexandria, Virginia, was awarde...\n",
      "51696  February 29, 2016  Smiths Detection, Edgewood, Maryland, was awar...\n",
      "51697  February 29, 2016  Boeing Co., Mesa, Arizona, was awarded a $9,84...\n",
      "51698  February 29, 2016  Honeywell International, Tempe, Arizona, was a...\n",
      "51699  February 29, 2016  3D Systems Inc., Rock Hill, South Carolina, ha...\n",
      "51700  February 29, 2016  Bell Boeing, California, Maryland, has been aw...\n",
      "51701  February 29, 2016  Taft Broadcasting LLC, Houston, Texas, was awa...\n",
      "51702  February 29, 2016  The Town of Lincoln/Lincoln Public Schools, Ma...\n",
      "51703  February 29, 2016  The Caesar Rodney School District, Delaware, i...\n",
      "51704  February 29, 2016  Cotton & Co. LLP, Alexandria, Virginia, was aw...\n",
      "\n",
      "[51705 rows x 2 columns]\n"
     ]
    }
   ],
   "source": [
    "print(df)"
   ]
  },
  {
   "cell_type": "code",
   "execution_count": 13,
   "metadata": {
    "collapsed": false
   },
   "outputs": [],
   "source": [
    "contract_lengths = df['announcement'].str.len()"
   ]
  },
  {
   "cell_type": "code",
   "execution_count": 22,
   "metadata": {
    "collapsed": false
   },
   "outputs": [
    {
     "data": {
      "text/plain": [
       "<matplotlib.axes._subplots.AxesSubplot at 0x115683d30>"
      ]
     },
     "execution_count": 22,
     "metadata": {},
     "output_type": "execute_result"
    },
    {
     "data": {
      "image/png": "[encoded data removed]",
      "text/plain": [
       "<matplotlib.figure.Figure at 0x115ff2b38>"
      ]
     },
     "metadata": {},
     "output_type": "display_data"
    }
   ],
   "source": [
    "# Setting a range here because there is one extremely high value (40000+) that throws the graph off\n",
    "contract_lengths.hist(range=[0, 3000], bins=10)"
   ]
  },
  {
   "cell_type": "code",
   "execution_count": 28,
   "metadata": {
    "collapsed": false
   },
   "outputs": [],
   "source": [
    "# Find the overly length announcements\n",
    "long_announcements = df[df['announcement'].str.len() > 1500]"
   ]
  },
  {
   "cell_type": "code",
   "execution_count": 30,
   "metadata": {
    "collapsed": false
   },
   "outputs": [],
   "source": [
    "writer = pd.ExcelWriter('long_announcements.xlsx')"
   ]
  },
  {
   "cell_type": "code",
   "execution_count": 32,
   "metadata": {
    "collapsed": true
   },
   "outputs": [],
   "source": [
    "# Export to excel for manual editing and splitting of long announcements that are probably repeated\n",
    "long_announcements.to_excel(writer,'Sheet1')\n",
    "writer.save()"
   ]
  },
  {
   "cell_type": "code",
   "execution_count": null,
   "metadata": {
    "collapsed": true
   },
   "outputs": [],
   "source": []
  }
 ],
 "metadata": {
  "kernelspec": {
   "display_name": "Python 3",
   "language": "python",
   "name": "python3"
  },
  "language_info": {
   "codemirror_mode": {
    "name": "ipython",
    "version": 3
   },
   "file_extension": ".py",
   "mimetype": "text/x-python",
   "name": "python",
   "nbconvert_exporter": "python",
   "pygments_lexer": "ipython3",
   "version": "3.5.1"
  }
 },
 "nbformat": 4,
 "nbformat_minor": 0
}
