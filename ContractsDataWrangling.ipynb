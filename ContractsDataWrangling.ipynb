{
 "cells": [
  {
   "cell_type": "code",
   "execution_count": 1,
   "metadata": {
    "collapsed": false
   },
   "outputs": [],
   "source": [
    "%matplotlib inline\n",
    "import pandas as pd\n",
    "import numpy as np\n",
    "import matplotlib.pyplot as plt\n",
    "import re"
   ]
  },
  {
   "cell_type": "code",
   "execution_count": 2,
   "metadata": {
    "collapsed": false
   },
   "outputs": [],
   "source": [
    "df = pd.read_csv('consolidated_contracts.csv')"
   ]
  },
  {
   "cell_type": "code",
   "execution_count": 3,
   "metadata": {
    "collapsed": true
   },
   "outputs": [],
   "source": [
    "# Convert date strings to date-time objects\n",
    "df['date'] = pd.to_datetime(df['date'])"
   ]
  },
  {
   "cell_type": "code",
   "execution_count": 4,
   "metadata": {
    "collapsed": false
   },
   "outputs": [],
   "source": [
    "contract_lengths = df['announcement'].str.len()"
   ]
  },
  {
   "cell_type": "code",
   "execution_count": 5,
   "metadata": {
    "collapsed": false
   },
   "outputs": [
    {
     "data": {
      "text/plain": [
       "<matplotlib.axes._subplots.AxesSubplot at 0x118e390b8>"
      ]
     },
     "execution_count": 5,
     "metadata": {},
     "output_type": "execute_result"
    },
    {
     "data": {
      "image/png": "[encoded data removed]",
      "text/plain": [
       "<matplotlib.figure.Figure at 0x10a005908>"
      ]
     },
     "metadata": {},
     "output_type": "display_data"
    }
   ],
   "source": [
    "# Setting a range here because there is one extremely high value (40000+) that throws the graph off\n",
    "contract_lengths.hist(range=[0, 3000], bins=10)"
   ]
  },
  {
   "cell_type": "code",
   "execution_count": 6,
   "metadata": {
    "collapsed": false
   },
   "outputs": [],
   "source": [
    "# Find the overly length announcements\n",
    "# Find announcements that mention \"contracting activity\" multiple times (indicates multiple entires usually)\n",
    "suspect_announcements = df[(df['announcement'].str.len() > 2500) & \n",
    "                          (df['announcement'].str.count('contracting activity', flags=re.IGNORECASE) > 1)]"
   ]
  },
  {
   "cell_type": "code",
   "execution_count": 7,
   "metadata": {
    "collapsed": false
   },
   "outputs": [
    {
     "name": "stdout",
     "output_type": "stream",
     "text": [
      "            date                                       announcement\n",
      "27848 2006-08-09  CONTRACTS NAVY Harris Corp., RF Communications...\n",
      "27865 2006-08-11  CONTRACTS AIR FORCE Rockwell Collins Inc., Ced...\n",
      "27866 2006-08-14  CONTRACTS AIR FORCE Aerospace Testing Alliance...\n",
      "27867 2006-08-15  CONTRACTS ARMY General Dynamics, St. Petersbur...\n",
      "27868 2006-08-16  CONTRACTS MISSILE DEFENSE AGENCY Raytheon Miss...\n",
      "27869 2006-08-18  CONTRACTS DEFENSE LOGISTICS AGENCY Science App...\n",
      "27870 2006-08-21  CONTRACTS DEFENSE INFORMATION SYSTEMS AGENCY (...\n",
      "27871 2006-09-06  CONTRACTS ARMY GM GDLS Defense Group L.L.C. (J...\n",
      "27872 2006-09-06  Spindler Construction Corp.*, Logan, Utah, was...\n",
      "27873 2006-09-07  CONTRACTS DEFENSE LOGISTICS AGENCY Valero Mark...\n",
      "27874 2006-09-08  Lear Siegler Logistics International Inc., Gai...\n",
      "27880 2006-09-11  GM GDLS Defense Group L.L.C. (Joint Venture), ...\n",
      "27881 2006-09-13  CONTRACTS NAVY Raytheon Co., Tucson, Ariz. is ...\n",
      "27882 2006-09-14  CONTRACTS ARMY Raytheon Co., McKinney, Texas, ...\n",
      "27883 2006-09-14  AIR FORCE Computer Sciences Corp., Applied Tec...\n",
      "27885 2006-09-25  Sikorsky Support Services, Inc., Pensacola, Fl...\n",
      "27886 2006-09-25  Northrop Grumman Systems Corp., San Diego, Cal...\n",
      "27887 2006-09-29  The Aerospace Corp., El Segundo, Calif., is be...\n",
      "27888 2006-09-29  Raytheon Co., West Andover, Mass., was awarded...\n",
      "27889 2006-09-29  Sodexho Management, Inc., Gaithersburg, Md., i...\n",
      "27890 2006-09-29  COHR, Inc., dba Masterplan, Chatsworth, Calif....\n",
      "27891 2006-10-04  CONTRACTS ARMY AM General L.L.C., South Bend, ...\n",
      "27893 2006-10-20  Amerada Hess Corp., Woodbridge, N.J., is being...\n",
      "27894 2006-10-23  CONTRACTS ARMY Tompkins Builders Inc., Washing...\n",
      "27895 2006-10-25  CONTRACTS DEFENSE ADVANCED RESEARCH PROJECTS A...\n",
      "27899 2006-10-30  CONTRACTS UNITED STATES SPECIAL OPERATIONS COM...\n",
      "27901 2006-11-08  ARMY Textron Marine & Land Systems, New Orlean...\n",
      "27903 2006-11-09  NAVY Force Protection Industries, Inc., Ladson...\n",
      "27904 2006-11-14  CONTRACTS AIR FORCE McDonnell Douglas Corp., S...\n",
      "27905 2006-11-15  CONTRACTS AIR FORCE Northrop Grumman Electroni...\n",
      "...          ...                                                ...\n",
      "29168 2009-07-08  CONTRACTS AIR FORCE Northrop Grumman Space and...\n",
      "29183 2009-07-09  NAVY Superior Electric Company, Farmington, Co...\n",
      "29889 2009-09-22  NAVY Harper Construction Co., San Diego, Calif...\n",
      "30268 2009-10-02  CONTRACTS AIR FORCE United Launch Services of ...\n",
      "30421 2009-10-29  CONTRACTS AIR FORCE MWH Americas, Inc. of Broo...\n",
      "30791 2010-02-18  CONTRACTS NAVY CACI, Inc., Federal, Chantilly,...\n",
      "43344 2013-09-12  Bristol General Contractors LLC*, Anchorage, A...\n",
      "45686 2014-08-06  Geomorph Information Systems, LLC,* San Diego,...\n",
      "45795 2014-08-18  Whiting-Turner Contracting Co., Baltimore, Mar...\n",
      "45796 2014-08-18  The Boeing Co., Seattle, Washington, is being ...\n",
      "45809 2014-08-20  BAE Systems Technology Solutions & Services, I...\n",
      "45810 2014-08-20  BAE Systems Information and Electronic Systems...\n",
      "45832 2014-08-22  Anchor Industries,* Evansville, Indiana, has b...\n",
      "45833 2014-08-22  L-3 Communications Corp., Integrated Systems G...\n",
      "45835 2014-08-22  Franklin Government Services, LLC,* Austin, Te...\n",
      "47022 2014-12-01  Lockheed Martin, Mission Systems and Training,...\n",
      "47304 2014-12-30  The Haskell Co., Jacksonville, Florida, is bei...\n",
      "47506 2015-02-02  Bruce S. Rosenblatt & Associates LLC,* Oakland...\n",
      "47533 2015-02-05  Raytheon Missile Systems, Tucson, Arizona, is ...\n",
      "47574 2015-02-12  Science Applications International Corp. Inc.,...\n",
      "47641 2015-02-24  Leidos Inc., Reston, Virginia, is being awarde...\n",
      "47673 2015-02-27  Northrop Grumman Systems Corp., Aerospace Syst...\n",
      "48652 2015-06-15  The Columbia Group Inc., Panama City, Florida ...\n",
      "48667 2015-06-15  The Columbia Group Inc., Panama City, Florida ...\n",
      "48720 2015-06-18  Lockheed Martin, Mission Systems and Training,...\n",
      "48736 2015-06-18  Lockheed Martin, Mission Systems and Training,...\n",
      "49291 2015-07-17  American Systems, Chantilly, Virginia (HHM402-...\n",
      "49298 2015-07-17  Huntington Ingalls Inc., Pascagoula, Mississip...\n",
      "49303 2015-07-17  American Systems, Chantilly, Virginia (HHM402-...\n",
      "49310 2015-07-17  Huntington Ingalls Inc., Pascagoula, Mississip...\n",
      "\n",
      "[82 rows x 2 columns]\n"
     ]
    }
   ],
   "source": [
    "print(suspect_announcements)"
   ]
  },
  {
   "cell_type": "code",
   "execution_count": 8,
   "metadata": {
    "collapsed": false
   },
   "outputs": [],
   "source": [
    "# Export to CSV for manual editing and splitting of long announcements that are probably repeated\n",
    "suspect_announcements.to_csv('suspect_announcements.csv')"
   ]
  },
  {
   "cell_type": "code",
   "execution_count": 9,
   "metadata": {
    "collapsed": false
   },
   "outputs": [],
   "source": [
    "# Re-import CSV with \"BREAK\" inserted between announcements that are on the same line\n",
    "updated_entries = pd.read_csv('suspect_announcements_broken_up.csv', index_col='index')"
   ]
  },
  {
   "cell_type": "code",
   "execution_count": 10,
   "metadata": {
    "collapsed": true
   },
   "outputs": [],
   "source": [
    "# Update the original data frame with the new, manually edited entries\n",
    "df['announcement'].update(updated_entries['announcement'])"
   ]
  },
  {
   "cell_type": "code",
   "execution_count": 11,
   "metadata": {
    "collapsed": false
   },
   "outputs": [
    {
     "data": {
      "text/plain": [
       "544"
      ]
     },
     "execution_count": 11,
     "metadata": {},
     "output_type": "execute_result"
    }
   ],
   "source": [
    "# Make sure the update worked\n",
    "df['announcement'].str.count('BREAK').sum()"
   ]
  },
  {
   "cell_type": "code",
   "execution_count": 12,
   "metadata": {
    "collapsed": false
   },
   "outputs": [],
   "source": [
    "# Split upon the occurences of 'BREAK' (this will expand each row into multiple columns that need to be flattened)\n",
    "df['announcement'] = df['announcement'].str.split('BREAK', expand=False)"
   ]
  },
  {
   "cell_type": "code",
   "execution_count": 13,
   "metadata": {
    "collapsed": false
   },
   "outputs": [],
   "source": [
    "grouped = df.groupby(df['date'])"
   ]
  },
  {
   "cell_type": "code",
   "execution_count": 14,
   "metadata": {
    "collapsed": false
   },
   "outputs": [],
   "source": [
    "aggregated = grouped.aggregate(lambda x: list(x))"
   ]
  },
  {
   "cell_type": "code",
   "execution_count": 15,
   "metadata": {
    "collapsed": false
   },
   "outputs": [],
   "source": [
    "# Concat the lists since some have multiple values while others are empty\n",
    "aggregated['announcement'] = aggregated['announcement'].apply(\n",
    "    lambda lists: [item for sublist in lists for item in sublist])"
   ]
  },
  {
   "cell_type": "code",
   "execution_count": 18,
   "metadata": {
    "collapsed": false
   },
   "outputs": [
    {
     "name": "stdout",
     "output_type": "stream",
     "text": [
      "                                                 announcement\n",
      "date                                                         \n",
      "1994-10-07  [Pioneer Aluminum,* Los Angeles, California, w...\n",
      "1994-10-11  [Hyster Company, Portland, Oregon, is being aw...\n",
      "1994-10-12  [FSEC, Inc., Pasadena, California, is being aw...\n",
      "1994-10-14  [The MITRE Corporation, McLean, Virginia, is b...\n",
      "1994-10-20  [Lockheed Aeromod Center, Incorporated, Greenv...\n",
      "1994-10-21  [Bell Helicopter Textron Incorporated, Ft. Wor...\n",
      "1994-10-24  [Electrospace Systems, Inc., Richardson, Texas...\n",
      "1994-10-25  [Southeastern Computer Consultants, Inc., (SCC...\n",
      "1994-10-26  [Hughes Missile Systems Company, Tucson, Arizo...\n",
      "1994-10-27  [Burlington Menswear, New York, New York, was ...\n",
      "1994-10-28  [Lockheed Missiles & Space Company, Inc., Sunn...\n",
      "1994-10-31  [General Dynamics Corporation, Electric Boat D...\n",
      "1994-11-02  [Booz-Allen and Hamilton, Inc., McLean, Virgin...\n",
      "1994-11-03  [Newport News Shipbuilding and Drydock Company...\n",
      "1994-11-04  [Contrack International, Incorporated, Arlingt...\n",
      "1994-11-07  [Monfort Inc./Mapelli Food Dist. Company, Gree...\n",
      "1994-11-08  [McKesson Drug Company, San Francisco, Califor...\n",
      "1994-11-09  [Hughes Aircraft Company, Radar Systems, Los A...\n",
      "1994-11-10  [In addition to the contracts listed in Depart...\n",
      "1994-11-14  [Nova Group, Incorporated, Napa, California, i...\n",
      "1994-11-15  [Loral Vought Systems Corporation (formerly LT...\n",
      "1994-11-18  [Loral Vought Systems Corporation (formerly LT...\n",
      "1994-11-21  [CCL, Inc., Bethesda, Md., is being awarded a ...\n",
      "1994-11-23  [Sonalysts, Inc., Waterford, Connecticut, is b...\n",
      "1994-11-28  [Monfort Incorporated, Greeley, Colorado, is b...\n",
      "1994-11-29  [Monfort Incorporated, Greeley, Colorado, is b...\n",
      "1994-11-30  [Teledyne Brown Engineering, Jackson, Alabama,...\n",
      "1994-12-01  [CAE-Link Corporation, Binghamton, New York, i...\n",
      "1994-12-02  [Flight Safety International, Incorporated, Fl...\n",
      "1994-12-05  [Holston Defense Corporation, Kingsport, Tenn....\n",
      "...                                                       ...\n",
      "2016-01-13  [Raytheon Co.- Missile Systems, Tucson, Arizon...\n",
      "2016-01-14  [CH2M Hill Inc., Virginia Beach, Virginia, is ...\n",
      "2016-01-15  [Apex Clean Energy Holdings LLC,* Charlottesvi...\n",
      "2016-01-19  [Northrop Grumman Information Systems, San Die...\n",
      "2016-01-20  [Engineering Research and Consulting Inc.,* Hu...\n",
      "2016-01-21  [System of Systems Security (SOSSEC) Inc., Atk...\n",
      "2016-01-22  [AAI Corp., doing business as Textron Systems,...\n",
      "2016-01-27  [BCF Solutions Inc.,* Chantilly, Virginia (FA8...\n",
      "2016-01-28  [The Boeing Co., Seattle, Washington, is being...\n",
      "2016-01-29  [Sallyport Global Holdings Inc., Alexandria, V...\n",
      "2016-02-01  [Atlantic Diving Supply Inc., doing business a...\n",
      "2016-02-02  [L-3 Platform Integration Division, Waco, Texa...\n",
      "2016-02-03  [AAI Corp., doing business as Textron Systems,...\n",
      "2016-02-04  [Olin Corp., Winchester Ammunition Division, E...\n",
      "2016-02-05  [Pepco Energy Services Inc., Arlington, Virgin...\n",
      "2016-02-08  [Food Service Inc.,* Mt. Vernon, Washington, h...\n",
      "2016-02-09  [Advanced Technology International, doing busi...\n",
      "2016-02-10  [Downrange Operation and Training LLC,* Jackso...\n",
      "2016-02-11  [Reliance Test & Technology, Fort Walton Beach...\n",
      "2016-02-12  [Philadelphia Gear Corp., King of Prussia, Pen...\n",
      "2016-02-16  [BAE Systems, Norfolk Ship Repair, Norfolk, Vi...\n",
      "2016-02-17  [Ceradyne Inc., Costa Mesa, California, has be...\n",
      "2016-02-18  [Colsa Corp.,* Huntsville, Alabama (W9113M-16-...\n",
      "2016-02-19  [General Dynamics C4 Systems Inc., Taunton, Ma...\n",
      "2016-02-22  [Affigent,* Herndon, Virginia (W52P1J-16-D-000...\n",
      "2016-02-23  [Manhattan Construction Co., Falls Church, Vir...\n",
      "2016-02-24  [American Airlines Inc., Fort Worth, Texas, ha...\n",
      "2016-02-25  [Ten companies are being awarded fixed-price c...\n",
      "2016-02-26  [Harris Corp., Rochester, New York (W15P7T-16-...\n",
      "2016-02-29  [Lockheed Martin Corp., Lockheed Martin Aerona...\n",
      "\n",
      "[4359 rows x 1 columns]\n"
     ]
    }
   ],
   "source": [
    "# Each date should not have only one row, while the next column is a list for all releases from that date\n",
    "print(aggregated)"
   ]
  },
  {
   "cell_type": "code",
   "execution_count": 19,
   "metadata": {
    "collapsed": true
   },
   "outputs": [],
   "source": [
    "# Export to CSV\n",
    "aggregated.to_csv('consolidated_contracts_split.csv')"
   ]
  },
  {
   "cell_type": "code",
   "execution_count": null,
   "metadata": {
    "collapsed": true
   },
   "outputs": [],
   "source": []
  }
 ],
 "metadata": {
  "kernelspec": {
   "display_name": "Python 3",
   "language": "python",
   "name": "python3"
  },
  "language_info": {
   "codemirror_mode": {
    "name": "ipython",
    "version": 3
   },
   "file_extension": ".py",
   "mimetype": "text/x-python",
   "name": "python",
   "nbconvert_exporter": "python",
   "pygments_lexer": "ipython3",
   "version": "3.5.1"
  }
 },
 "nbformat": 4,
 "nbformat_minor": 0
}
